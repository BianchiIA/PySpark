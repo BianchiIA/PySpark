{
 "cells": [
  {
   "cell_type": "code",
   "execution_count": 2,
   "metadata": {
    "collapsed": true,
    "pycharm": {
     "name": "#%%\n"
    }
   },
   "outputs": [],
   "source": [
    "from pyspark.sql import SparkSession\n",
    "from pyspark.sql.types import *\n",
    "from pyspark.sql.functions import regexp_replace"
   ]
  },
  {
   "cell_type": "code",
   "execution_count": 3,
   "outputs": [
    {
     "name": "stdout",
     "output_type": "stream",
     "text": [
      "2022-05-20 18:38:42 WARN  Utils:66 - Your hostname, vinicius-C62-LIV resolves to a loopback address: 127.0.1.1; using 192.168.40.107 instead (on interface enp4s0)\n",
      "2022-05-20 18:38:42 WARN  Utils:66 - Set SPARK_LOCAL_IP if you need to bind to another address\n",
      "2022-05-20 18:38:42 WARN  NativeCodeLoader:62 - Unable to load native-hadoop library for your platform... using builtin-java classes where applicable\n"
     ]
    },
    {
     "name": "stderr",
     "output_type": "stream",
     "text": [
      "Setting default log level to \"WARN\".\n",
      "To adjust logging level use sc.setLogLevel(newLevel). For SparkR, use setLogLevel(newLevel).\n"
     ]
    },
    {
     "name": "stdout",
     "output_type": "stream",
     "text": [
      "2022-05-20 18:38:43 WARN  Utils:66 - Service 'SparkUI' could not bind on port 4040. Attempting port 4041.\n",
      "2022-05-20 18:38:43 WARN  Utils:66 - Service 'SparkUI' could not bind on port 4041. Attempting port 4042.\n",
      "+-----------+----------------------+--------------------+-----------------+---------------------+-------------------------+----+-----------------------+------------------+--------------------------------+------------+\n",
      "|CNPJ_BASICO|IDENTIFICADOR_DE_SOCIO|          NOME_SOCIO|CNPJ_CPF_DO_SOCIO|QUALIFICACAO_DO_SOCIO|DATA_DE_ENTRADA_SOCIEDADE|PAIS|CPF_REPRESENTANTE_LEGAL|NOME_REPRESENTANTE|QUALIFICACAO_REPRESENTANTE_LEGAL|FAIXA_ETARIA|\n",
      "+-----------+----------------------+--------------------+-----------------+---------------------+-------------------------+----+-----------------------+------------------+--------------------------------+------------+\n",
      "|   10550877|                     2|ADEVALDO MICHELL ...|      ***228541**|                   22|                 20081124|null|            ***000000**|              null|                              00|           4|\n",
      "|   10550931|                     2|CLEONICE DE JESUS...|      ***312335**|                   49|                 20081124|null|            ***000000**|              null|                              00|           5|\n",
      "|   10550931|                     2|   LUZIA GAMA FERRAZ|      ***343017**|                   49|                 20090312|null|            ***000000**|              null|                              00|           7|\n",
      "|   10550947|                     2|BRUNO JOSE VIEIRA...|      ***934995**|                   49|                 20081215|null|            ***000000**|              null|                              00|           4|\n",
      "|   10550947|                     2|MARIA AUXILIADORA...|      ***708455**|                   49|                 20081215|null|            ***000000**|              null|                              00|           6|\n",
      "|   10550962|                     2|WAGNER MODESTO DE...|      ***424007**|                   10|                 20081215|null|            ***000000**|              null|                              00|           6|\n",
      "|   10550962|                     2|LINDENBERG GOMES ...|      ***151335**|                   16|                 20081215|null|            ***000000**|              null|                              00|           5|\n",
      "|   10550982|                     2|DUCINEIDE CUNHA M...|      ***115202**|                   22|                 20190321|null|            ***000000**|              null|                              00|           5|\n",
      "|   10550982|                     2|LARA LUANA MARTIN...|      ***093972**|                   49|                 20190321|null|            ***000000**|              null|                              00|           3|\n",
      "|   10469586|                     2|LEONARDO MARTIN S...|      ***902099**|                   49|                 20140827|null|            ***000000**|              null|                              00|           5|\n",
      "|   10469586|                     2|   ALEJO FANCUBIERTA|      ***228369**|                   22|                 20140827|null|            ***000000**|              null|                              00|           3|\n",
      "|   10551006|                     2| ALESSANDRA PEZZATTO|      ***334388**|                   05|                 20171010|null|            ***000000**|              null|                              00|           6|\n",
      "|   10551006|                     2|       EDSON DELAIDE|      ***094458**|                   05|                 20171010|null|            ***000000**|              null|                              00|           6|\n",
      "|   10551006|                     1|P & D JUNDIAI - A...|   07417364000110|                   22|                 20171010|null|            ***094458**|     EDSON DELAIDE|                              05|           0|\n",
      "|   10551057|                     2|ANTONIO MARIA CUR...|      ***204718**|                   49|                 20081218|null|            ***000000**|              null|                              00|           9|\n",
      "|   10551057|                     2| MARIA GOMES RIBEIRO|      ***725338**|                   22|                 20081218|null|            ***000000**|              null|                              00|           8|\n",
      "|   10551069|                     2|SILMARA LEME SANT...|      ***300628**|                   49|                 20081209|null|            ***000000**|              null|                              00|           5|\n",
      "|   10551069|                     2|ISRAEL APARECIDO ...|      ***230138**|                   22|                 20081209|null|            ***000000**|              null|                              00|           5|\n",
      "|   10551092|                     2|ALCIONE JUNIOR BE...|      ***013359**|                   49|                 20081217|null|            ***000000**|              null|                              00|           4|\n",
      "|   10551092|                     2|CLEUDETE RAGNINI ...|      ***154110**|                   22|                 20081217|null|            ***000000**|              null|                              00|           6|\n",
      "+-----------+----------------------+--------------------+-----------------+---------------------+-------------------------+----+-----------------------+------------------+--------------------------------+------------+\n",
      "only showing top 20 rows\n",
      "\n"
     ]
    }
   ],
   "source": [
    "spark = SparkSession.builder.getOrCreate()\n",
    "\n",
    "path = '/media/vinicius/Storage/Stronger/Repositorio_Dados_Brutros/Socio/Socios'\n",
    "path_save = '/media/vinicius/Storage/Stronger/Repositorio_Dados_Brutros/Socio/'\n",
    "\n",
    "\n",
    "schema = StructType([\n",
    "    StructField('CNPJ_BASICO',StringType()),\n",
    "    StructField('IDENTIFICADOR_DE_SOCIO',StringType()),\n",
    "    StructField('NOME_SOCIO',StringType()),\n",
    "    StructField('CNPJ_CPF_DO_SOCIO',StringType()),\n",
    "    StructField('QUALIFICACAO_DO_SOCIO',StringType()),\n",
    "    StructField('DATA_DE_ENTRADA_SOCIEDADE',StringType()),\n",
    "    StructField('PAIS',StringType()),\n",
    "    StructField('CPF_REPRESENTANTE_LEGAL',StringType()),\n",
    "    StructField('NOME_REPRESENTANTE',StringType()),\n",
    "    StructField('QUALIFICACAO_REPRESENTANTE_LEGAL',StringType()),\n",
    "    StructField('FAIXA_ETARIA',StringType())\n",
    "])\n",
    "path = '/media/vinicius/Storage/Stronger/Repositorio_Dados_Brutros/Socio/Socios'\n",
    "df = spark.read.csv(path,\n",
    "                    schema=schema,\n",
    "                    sep=';',\n",
    "                    header=False)\n",
    "\n",
    "df.show()\n",
    "\n",
    "\n"
   ],
   "metadata": {
    "collapsed": false,
    "pycharm": {
     "name": "#%%\n"
    }
   }
  },
  {
   "cell_type": "code",
   "execution_count": 7,
   "outputs": [
    {
     "name": "stdout",
     "output_type": "stream",
     "text": [
      "2022-05-20 18:59:37 WARN  MemoryManager:115 - Total allocation exceeds 95.00% (946,339,828 bytes) of heap memory\n",
      "Scaling row group sizes to 88.13% for 8 writers\n",
      "2022-05-20 18:59:37 WARN  MemoryManager:115 - Total allocation exceeds 95.00% (946,339,828 bytes) of heap memory\n",
      "Scaling row group sizes to 78.34% for 9 writers\n",
      "2022-05-20 18:59:37 WARN  MemoryManager:115 - Total allocation exceeds 95.00% (946,339,828 bytes) of heap memory\n",
      "Scaling row group sizes to 70.51% for 10 writers\n",
      "2022-05-20 18:59:37 WARN  MemoryManager:115 - Total allocation exceeds 95.00% (946,339,828 bytes) of heap memory\n",
      "Scaling row group sizes to 64.10% for 11 writers\n",
      "2022-05-20 18:59:37 WARN  MemoryManager:115 - Total allocation exceeds 95.00% (946,339,828 bytes) of heap memory\n",
      "Scaling row group sizes to 58.76% for 12 writers\n"
     ]
    },
    {
     "name": "stderr",
     "output_type": "stream",
     "text": [
      "[Stage 2:>                                                        (0 + 12) / 20]"
     ]
    },
    {
     "name": "stdout",
     "output_type": "stream",
     "text": [
      "2022-05-20 18:59:46 WARN  MemoryManager:115 - Total allocation exceeds 95.00% (946,339,828 bytes) of heap memory\n",
      "Scaling row group sizes to 64.10% for 11 writers\n",
      "2022-05-20 18:59:46 WARN  MemoryManager:115 - Total allocation exceeds 95.00% (946,339,828 bytes) of heap memory\n",
      "Scaling row group sizes to 58.76% for 12 writers\n"
     ]
    },
    {
     "name": "stderr",
     "output_type": "stream",
     "text": [
      "[Stage 2:==>                                                      (1 + 12) / 20]"
     ]
    },
    {
     "name": "stdout",
     "output_type": "stream",
     "text": [
      "2022-05-20 19:00:09 WARN  MemoryManager:115 - Total allocation exceeds 95.00% (946,339,828 bytes) of heap memory\n",
      "Scaling row group sizes to 64.10% for 11 writers\n",
      "2022-05-20 19:00:09 WARN  MemoryManager:115 - Total allocation exceeds 95.00% (946,339,828 bytes) of heap memory\n",
      "Scaling row group sizes to 58.76% for 12 writers\n"
     ]
    },
    {
     "name": "stderr",
     "output_type": "stream",
     "text": [
      "[Stage 2:=====>                                                   (2 + 12) / 20]"
     ]
    },
    {
     "name": "stdout",
     "output_type": "stream",
     "text": [
      "2022-05-20 19:00:09 WARN  MemoryManager:115 - Total allocation exceeds 95.00% (946,339,828 bytes) of heap memory\n",
      "Scaling row group sizes to 64.10% for 11 writers\n",
      "2022-05-20 19:00:09 WARN  MemoryManager:115 - Total allocation exceeds 95.00% (946,339,828 bytes) of heap memory\n",
      "Scaling row group sizes to 70.51% for 10 writers\n",
      "2022-05-20 19:00:09 WARN  MemoryManager:115 - Total allocation exceeds 95.00% (946,339,828 bytes) of heap memory\n",
      "Scaling row group sizes to 78.34% for 9 writers\n",
      "2022-05-20 19:00:09 WARN  MemoryManager:115 - Total allocation exceeds 95.00% (946,339,828 bytes) of heap memory\n",
      "Scaling row group sizes to 70.51% for 10 writers\n",
      "2022-05-20 19:00:09 WARN  MemoryManager:115 - Total allocation exceeds 95.00% (946,339,828 bytes) of heap memory\n",
      "Scaling row group sizes to 78.34% for 9 writers\n",
      "2022-05-20 19:00:09 WARN  MemoryManager:115 - Total allocation exceeds 95.00% (946,339,828 bytes) of heap memory\n",
      "Scaling row group sizes to 70.51% for 10 writers\n",
      "2022-05-20 19:00:09 WARN  MemoryManager:115 - Total allocation exceeds 95.00% (946,339,828 bytes) of heap memory\n",
      "Scaling row group sizes to 78.34% for 9 writers\n",
      "2022-05-20 19:00:09 WARN  MemoryManager:115 - Total allocation exceeds 95.00% (946,339,828 bytes) of heap memory\n",
      "Scaling row group sizes to 70.51% for 10 writers\n",
      "2022-05-20 19:00:09 WARN  MemoryManager:115 - Total allocation exceeds 95.00% (946,339,828 bytes) of heap memory\n",
      "Scaling row group sizes to 78.34% for 9 writers\n",
      "2022-05-20 19:00:09 WARN  MemoryManager:115 - Total allocation exceeds 95.00% (946,339,828 bytes) of heap memory\n",
      "Scaling row group sizes to 88.13% for 8 writers\n",
      "2022-05-20 19:00:09 WARN  MemoryManager:115 - Total allocation exceeds 95.00% (946,339,828 bytes) of heap memory\n",
      "Scaling row group sizes to 88.13% for 8 writers\n",
      "2022-05-20 19:00:09 WARN  MemoryManager:115 - Total allocation exceeds 95.00% (946,339,828 bytes) of heap memory\n",
      "Scaling row group sizes to 78.34% for 9 writers\n",
      "2022-05-20 19:00:09 WARN  MemoryManager:115 - Total allocation exceeds 95.00% (946,339,828 bytes) of heap memory\n",
      "Scaling row group sizes to 88.13% for 8 writers\n"
     ]
    },
    {
     "name": "stderr",
     "output_type": "stream",
     "text": [
      "                                                                                \r"
     ]
    }
   ],
   "source": [
    "df.write.parquet(path+'socio_parq.parquet')"
   ],
   "metadata": {
    "collapsed": false,
    "pycharm": {
     "name": "#%%\n"
    }
   }
  },
  {
   "cell_type": "code",
   "execution_count": 1,
   "outputs": [
    {
     "ename": "NameError",
     "evalue": "name 'df' is not defined",
     "output_type": "error",
     "traceback": [
      "\u001B[0;31m---------------------------------------------------------------------------\u001B[0m",
      "\u001B[0;31mNameError\u001B[0m                                 Traceback (most recent call last)",
      "\u001B[0;32m/tmp/ipykernel_32494/1396537375.py\u001B[0m in \u001B[0;36m<module>\u001B[0;34m\u001B[0m\n\u001B[0;32m----> 1\u001B[0;31m \u001B[0mdf\u001B[0m\u001B[0;34m\u001B[0m\u001B[0;34m\u001B[0m\u001B[0m\n\u001B[0m",
      "\u001B[0;31mNameError\u001B[0m: name 'df' is not defined"
     ]
    }
   ],
   "source": [],
   "metadata": {
    "collapsed": false,
    "pycharm": {
     "name": "#%%\n"
    }
   }
  },
  {
   "cell_type": "code",
   "execution_count": null,
   "outputs": [],
   "source": [],
   "metadata": {
    "collapsed": false,
    "pycharm": {
     "name": "#%%\n"
    }
   }
  }
 ],
 "metadata": {
  "kernelspec": {
   "display_name": "Python 3",
   "language": "python",
   "name": "python3"
  },
  "language_info": {
   "codemirror_mode": {
    "name": "ipython",
    "version": 2
   },
   "file_extension": ".py",
   "mimetype": "text/x-python",
   "name": "python",
   "nbconvert_exporter": "python",
   "pygments_lexer": "ipython2",
   "version": "2.7.6"
  }
 },
 "nbformat": 4,
 "nbformat_minor": 0
}