{
 "cells": [
  {
   "cell_type": "code",
   "execution_count": 1,
   "outputs": [
    {
     "name": "stdout",
     "output_type": "stream",
     "text": [
      "2022-05-20 19:14:52 WARN  Utils:66 - Your hostname, vinicius-C62-LIV resolves to a loopback address: 127.0.1.1; using 192.168.40.107 instead (on interface enp4s0)\n",
      "2022-05-20 19:14:52 WARN  Utils:66 - Set SPARK_LOCAL_IP if you need to bind to another address\n",
      "2022-05-20 19:14:52 WARN  NativeCodeLoader:62 - Unable to load native-hadoop library for your platform... using builtin-java classes where applicable\n"
     ]
    },
    {
     "name": "stderr",
     "output_type": "stream",
     "text": [
      "Setting default log level to \"WARN\".\n",
      "To adjust logging level use sc.setLogLevel(newLevel). For SparkR, use setLogLevel(newLevel).\n"
     ]
    },
    {
     "name": "stdout",
     "output_type": "stream",
     "text": [
      "2022-05-20 19:14:53 WARN  Utils:66 - Service 'SparkUI' could not bind on port 4040. Attempting port 4041.\n"
     ]
    }
   ],
   "source": [
    "from pyspark.sql import SparkSession\n",
    "from pyspark.sql.types import *\n",
    "from pyspark.sql.functions import regexp_replace\n",
    "import pandas_gbq\n",
    "\n",
    "spark = (SparkSession.builder.getOrCreate())"
   ],
   "metadata": {
    "collapsed": false,
    "pycharm": {
     "name": "#%%\n"
    }
   }
  },
  {
   "cell_type": "code",
   "execution_count": 2,
   "outputs": [],
   "source": [
    "schema = StructType([\n",
    "    StructField('CNPJ_BASICO', StringType()),\n",
    "    StructField('RAZAO_SOCIAL', StringType()),\n",
    "    StructField('COD_NATUREZA_JURIDICA', StringType()),\n",
    "    StructField('COD_QUAL_RESPONSAVEL', StringType()),\n",
    "    StructField('CAPITAL_SOCIAL', StringType()),\n",
    "    StructField('COD_PORTE', StringType()),\n",
    "    StructField('COD_ENTE_RESPONSAVEL', StringType())\n",
    "])\n",
    "\n",
    "path = '/media/vinicius/Storage/Stronger/Repositorio_Dados_Brutros/Empresa/Empresa'\n",
    "path_save = '/media/vinicius/Storage/Stronger/Repositorio_Dados_Brutros/Empresa/'\n",
    "df = (\n",
    "    spark.read.csv(path,\n",
    "                   schema= schema,\n",
    "                   sep= ';',\n",
    "                   header=False)\n",
    ")"
   ],
   "metadata": {
    "collapsed": false,
    "pycharm": {
     "name": "#%%\n"
    }
   }
  },
  {
   "cell_type": "code",
   "execution_count": 3,
   "outputs": [],
   "source": [
    "df = df.withColumn('CAPITAL_SOCIAL', regexp_replace('CAPITAL_SOCIAL',',','.').cast('float'))"
   ],
   "metadata": {
    "collapsed": false,
    "pycharm": {
     "name": "#%%\n"
    }
   }
  },
  {
   "cell_type": "code",
   "execution_count": 4,
   "outputs": [
    {
     "name": "stdout",
     "output_type": "stream",
     "text": [
      "2022-05-20 19:15:07 WARN  MemoryManager:115 - Total allocation exceeds 95.00% (952,316,711 bytes) of heap memory\n",
      "Scaling row group sizes to 88.69% for 8 writers\n",
      "2022-05-20 19:15:07 WARN  MemoryManager:115 - Total allocation exceeds 95.00% (952,316,711 bytes) of heap memory\n",
      "Scaling row group sizes to 78.84% for 9 writers\n",
      "2022-05-20 19:15:07 WARN  MemoryManager:115 - Total allocation exceeds 95.00% (952,316,711 bytes) of heap memory\n",
      "Scaling row group sizes to 70.95% for 10 writers\n",
      "2022-05-20 19:15:07 WARN  MemoryManager:115 - Total allocation exceeds 95.00% (952,316,711 bytes) of heap memory\n",
      "Scaling row group sizes to 64.50% for 11 writers\n",
      "2022-05-20 19:15:07 WARN  MemoryManager:115 - Total allocation exceeds 95.00% (952,316,711 bytes) of heap memory\n",
      "Scaling row group sizes to 59.13% for 12 writers\n"
     ]
    },
    {
     "name": "stderr",
     "output_type": "stream",
     "text": [
      "[Stage 0:>                                                        (0 + 12) / 32]"
     ]
    },
    {
     "name": "stdout",
     "output_type": "stream",
     "text": [
      "2022-05-20 19:15:22 WARN  MemoryManager:115 - Total allocation exceeds 95.00% (952,316,711 bytes) of heap memory\n",
      "Scaling row group sizes to 64.50% for 11 writers\n",
      "2022-05-20 19:15:23 WARN  MemoryManager:115 - Total allocation exceeds 95.00% (952,316,711 bytes) of heap memory\n",
      "Scaling row group sizes to 59.13% for 12 writers\n"
     ]
    },
    {
     "name": "stderr",
     "output_type": "stream",
     "text": [
      "[Stage 0:=>                                                       (1 + 12) / 32]"
     ]
    },
    {
     "name": "stdout",
     "output_type": "stream",
     "text": [
      "2022-05-20 19:15:24 WARN  MemoryManager:115 - Total allocation exceeds 95.00% (952,316,711 bytes) of heap memory\n",
      "Scaling row group sizes to 64.50% for 11 writers\n",
      "2022-05-20 19:15:24 WARN  MemoryManager:115 - Total allocation exceeds 95.00% (952,316,711 bytes) of heap memory\n",
      "Scaling row group sizes to 70.95% for 10 writers\n",
      "2022-05-20 19:15:24 WARN  MemoryManager:115 - Total allocation exceeds 95.00% (952,316,711 bytes) of heap memory\n",
      "Scaling row group sizes to 64.50% for 11 writers\n",
      "2022-05-20 19:15:24 WARN  MemoryManager:115 - Total allocation exceeds 95.00% (952,316,711 bytes) of heap memory\n",
      "Scaling row group sizes to 59.13% for 12 writers\n"
     ]
    },
    {
     "name": "stderr",
     "output_type": "stream",
     "text": [
      "[Stage 0:=======>                                                 (4 + 12) / 32]"
     ]
    },
    {
     "name": "stdout",
     "output_type": "stream",
     "text": [
      "2022-05-20 19:15:24 WARN  MemoryManager:115 - Total allocation exceeds 95.00% (952,316,711 bytes) of heap memory\n",
      "Scaling row group sizes to 64.50% for 11 writers\n",
      "2022-05-20 19:15:24 WARN  MemoryManager:115 - Total allocation exceeds 95.00% (952,316,711 bytes) of heap memory\n",
      "Scaling row group sizes to 59.13% for 12 writers\n",
      "2022-05-20 19:15:24 WARN  MemoryManager:115 - Total allocation exceeds 95.00% (952,316,711 bytes) of heap memory\n",
      "Scaling row group sizes to 64.50% for 11 writers\n",
      "2022-05-20 19:15:24 WARN  MemoryManager:115 - Total allocation exceeds 95.00% (952,316,711 bytes) of heap memory\n",
      "Scaling row group sizes to 59.13% for 12 writers\n"
     ]
    },
    {
     "name": "stderr",
     "output_type": "stream",
     "text": [
      "[Stage 0:========>                                                (5 + 12) / 32]"
     ]
    },
    {
     "name": "stdout",
     "output_type": "stream",
     "text": [
      "2022-05-20 19:15:24 WARN  MemoryManager:115 - Total allocation exceeds 95.00% (952,316,711 bytes) of heap memory\n",
      "Scaling row group sizes to 64.50% for 11 writers\n",
      "2022-05-20 19:15:24 WARN  MemoryManager:115 - Total allocation exceeds 95.00% (952,316,711 bytes) of heap memory\n",
      "Scaling row group sizes to 59.13% for 12 writers\n",
      "2022-05-20 19:15:24 WARN  MemoryManager:115 - Total allocation exceeds 95.00% (952,316,711 bytes) of heap memory\n",
      "Scaling row group sizes to 64.50% for 11 writers\n",
      "2022-05-20 19:15:24 WARN  MemoryManager:115 - Total allocation exceeds 95.00% (952,316,711 bytes) of heap memory\n",
      "Scaling row group sizes to 70.95% for 10 writers\n",
      "2022-05-20 19:15:24 WARN  MemoryManager:115 - Total allocation exceeds 95.00% (952,316,711 bytes) of heap memory\n",
      "Scaling row group sizes to 78.84% for 9 writers\n",
      "2022-05-20 19:15:24 WARN  MemoryManager:115 - Total allocation exceeds 95.00% (952,316,711 bytes) of heap memory\n",
      "Scaling row group sizes to 70.95% for 10 writers\n"
     ]
    },
    {
     "name": "stderr",
     "output_type": "stream",
     "text": [
      "[Stage 0:============>                                            (7 + 12) / 32]"
     ]
    },
    {
     "name": "stdout",
     "output_type": "stream",
     "text": [
      "2022-05-20 19:15:24 WARN  MemoryManager:115 - Total allocation exceeds 95.00% (952,316,711 bytes) of heap memory\n",
      "Scaling row group sizes to 64.50% for 11 writers\n",
      "2022-05-20 19:15:25 WARN  MemoryManager:115 - Total allocation exceeds 95.00% (952,316,711 bytes) of heap memory\n",
      "Scaling row group sizes to 59.13% for 12 writers\n"
     ]
    },
    {
     "name": "stderr",
     "output_type": "stream",
     "text": [
      "[Stage 0:=====================>                                  (12 + 12) / 32]"
     ]
    },
    {
     "name": "stdout",
     "output_type": "stream",
     "text": [
      "2022-05-20 19:15:25 WARN  MemoryManager:115 - Total allocation exceeds 95.00% (952,316,711 bytes) of heap memory\n",
      "Scaling row group sizes to 64.50% for 11 writers\n",
      "2022-05-20 19:15:25 WARN  MemoryManager:115 - Total allocation exceeds 95.00% (952,316,711 bytes) of heap memory\n",
      "Scaling row group sizes to 70.95% for 10 writers\n",
      "2022-05-20 19:15:25 WARN  MemoryManager:115 - Total allocation exceeds 95.00% (952,316,711 bytes) of heap memory\n",
      "Scaling row group sizes to 64.50% for 11 writers\n",
      "2022-05-20 19:15:25 WARN  MemoryManager:115 - Total allocation exceeds 95.00% (952,316,711 bytes) of heap memory\n",
      "Scaling row group sizes to 70.95% for 10 writers\n",
      "2022-05-20 19:15:25 WARN  MemoryManager:115 - Total allocation exceeds 95.00% (952,316,711 bytes) of heap memory\n",
      "Scaling row group sizes to 64.50% for 11 writers\n",
      "2022-05-20 19:15:25 WARN  MemoryManager:115 - Total allocation exceeds 95.00% (952,316,711 bytes) of heap memory\n",
      "Scaling row group sizes to 59.13% for 12 writers\n",
      "2022-05-20 19:15:36 WARN  MemoryManager:115 - Total allocation exceeds 95.00% (952,316,711 bytes) of heap memory\n",
      "Scaling row group sizes to 64.50% for 11 writers\n",
      "2022-05-20 19:15:36 WARN  MemoryManager:115 - Total allocation exceeds 95.00% (952,316,711 bytes) of heap memory\n",
      "Scaling row group sizes to 59.13% for 12 writers\n"
     ]
    },
    {
     "name": "stderr",
     "output_type": "stream",
     "text": [
      "[Stage 0:======================>                                 (13 + 12) / 32]"
     ]
    },
    {
     "name": "stdout",
     "output_type": "stream",
     "text": [
      "2022-05-20 19:15:37 WARN  MemoryManager:115 - Total allocation exceeds 95.00% (952,316,711 bytes) of heap memory\n",
      "Scaling row group sizes to 64.50% for 11 writers\n",
      "2022-05-20 19:15:37 WARN  MemoryManager:115 - Total allocation exceeds 95.00% (952,316,711 bytes) of heap memory\n",
      "Scaling row group sizes to 59.13% for 12 writers\n"
     ]
    },
    {
     "name": "stderr",
     "output_type": "stream",
     "text": [
      "[Stage 0:========================>                               (14 + 12) / 32]"
     ]
    },
    {
     "name": "stdout",
     "output_type": "stream",
     "text": [
      "2022-05-20 19:15:39 WARN  MemoryManager:115 - Total allocation exceeds 95.00% (952,316,711 bytes) of heap memory\n",
      "Scaling row group sizes to 64.50% for 11 writers\n",
      "2022-05-20 19:15:39 WARN  MemoryManager:115 - Total allocation exceeds 95.00% (952,316,711 bytes) of heap memory\n",
      "Scaling row group sizes to 59.13% for 12 writers\n"
     ]
    },
    {
     "name": "stderr",
     "output_type": "stream",
     "text": [
      "[Stage 0:==========================>                             (15 + 12) / 32]"
     ]
    },
    {
     "name": "stdout",
     "output_type": "stream",
     "text": [
      "2022-05-20 19:15:39 WARN  MemoryManager:115 - Total allocation exceeds 95.00% (952,316,711 bytes) of heap memory\n",
      "Scaling row group sizes to 64.50% for 11 writers\n",
      "2022-05-20 19:15:39 WARN  MemoryManager:115 - Total allocation exceeds 95.00% (952,316,711 bytes) of heap memory\n",
      "Scaling row group sizes to 59.13% for 12 writers\n"
     ]
    },
    {
     "name": "stderr",
     "output_type": "stream",
     "text": [
      "[Stage 0:============================>                           (16 + 12) / 32]"
     ]
    },
    {
     "name": "stdout",
     "output_type": "stream",
     "text": [
      "2022-05-20 19:15:40 WARN  MemoryManager:115 - Total allocation exceeds 95.00% (952,316,711 bytes) of heap memory\n",
      "Scaling row group sizes to 64.50% for 11 writers\n",
      "2022-05-20 19:15:40 WARN  MemoryManager:115 - Total allocation exceeds 95.00% (952,316,711 bytes) of heap memory\n",
      "Scaling row group sizes to 59.13% for 12 writers\n",
      "2022-05-20 19:15:40 WARN  MemoryManager:115 - Total allocation exceeds 95.00% (952,316,711 bytes) of heap memory\n",
      "Scaling row group sizes to 64.50% for 11 writers\n",
      "2022-05-20 19:15:40 WARN  MemoryManager:115 - Total allocation exceeds 95.00% (952,316,711 bytes) of heap memory\n",
      "Scaling row group sizes to 59.13% for 12 writers\n"
     ]
    },
    {
     "name": "stderr",
     "output_type": "stream",
     "text": [
      "[Stage 0:===============================>                        (18 + 12) / 32]"
     ]
    },
    {
     "name": "stdout",
     "output_type": "stream",
     "text": [
      "2022-05-20 19:15:40 WARN  MemoryManager:115 - Total allocation exceeds 95.00% (952,316,711 bytes) of heap memory\n",
      "Scaling row group sizes to 64.50% for 11 writers\n",
      "2022-05-20 19:15:40 WARN  MemoryManager:115 - Total allocation exceeds 95.00% (952,316,711 bytes) of heap memory\n",
      "Scaling row group sizes to 59.13% for 12 writers\n"
     ]
    },
    {
     "name": "stderr",
     "output_type": "stream",
     "text": [
      "[Stage 0:=================================>                      (19 + 12) / 32]"
     ]
    },
    {
     "name": "stdout",
     "output_type": "stream",
     "text": [
      "2022-05-20 19:15:41 WARN  MemoryManager:115 - Total allocation exceeds 95.00% (952,316,711 bytes) of heap memory\n",
      "Scaling row group sizes to 64.50% for 11 writers\n",
      "2022-05-20 19:15:41 WARN  MemoryManager:115 - Total allocation exceeds 95.00% (952,316,711 bytes) of heap memory\n",
      "Scaling row group sizes to 59.13% for 12 writers\n",
      "2022-05-20 19:15:41 WARN  MemoryManager:115 - Total allocation exceeds 95.00% (952,316,711 bytes) of heap memory\n",
      "Scaling row group sizes to 64.50% for 11 writers\n"
     ]
    },
    {
     "name": "stderr",
     "output_type": "stream",
     "text": [
      "[Stage 0:==========================================>              (24 + 8) / 32]"
     ]
    },
    {
     "name": "stdout",
     "output_type": "stream",
     "text": [
      "2022-05-20 19:15:41 WARN  MemoryManager:115 - Total allocation exceeds 95.00% (952,316,711 bytes) of heap memory\n",
      "Scaling row group sizes to 70.95% for 10 writers\n",
      "2022-05-20 19:15:41 WARN  MemoryManager:115 - Total allocation exceeds 95.00% (952,316,711 bytes) of heap memory\n",
      "Scaling row group sizes to 78.84% for 9 writers\n",
      "2022-05-20 19:15:41 WARN  MemoryManager:115 - Total allocation exceeds 95.00% (952,316,711 bytes) of heap memory\n",
      "Scaling row group sizes to 88.69% for 8 writers\n"
     ]
    },
    {
     "name": "stderr",
     "output_type": "stream",
     "text": [
      "                                                                                \r"
     ]
    }
   ],
   "source": [
    "df.write.parquet(path_save+'empre_parq.parquet')"
   ],
   "metadata": {
    "collapsed": false,
    "pycharm": {
     "name": "#%%\n"
    }
   }
  },
  {
   "cell_type": "code",
   "execution_count": null,
   "outputs": [],
   "source": [],
   "metadata": {
    "collapsed": false,
    "pycharm": {
     "name": "#%%\n"
    }
   }
  },
  {
   "cell_type": "markdown",
   "source": [],
   "metadata": {
    "collapsed": false,
    "pycharm": {
     "name": "#%% md\n"
    }
   }
  }
 ],
 "metadata": {
  "kernelspec": {
   "display_name": "Python 3",
   "language": "python",
   "name": "python3"
  },
  "language_info": {
   "codemirror_mode": {
    "name": "ipython",
    "version": 2
   },
   "file_extension": ".py",
   "mimetype": "text/x-python",
   "name": "python",
   "nbconvert_exporter": "python",
   "pygments_lexer": "ipython2",
   "version": "2.7.6"
  }
 },
 "nbformat": 4,
 "nbformat_minor": 0
}