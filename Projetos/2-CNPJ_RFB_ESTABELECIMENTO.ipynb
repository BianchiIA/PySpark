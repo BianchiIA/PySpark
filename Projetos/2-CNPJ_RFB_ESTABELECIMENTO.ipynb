{
 "cells": [
  {
   "cell_type": "code",
   "execution_count": 1,
   "metadata": {
    "pycharm": {
     "name": "#%%\n"
    }
   },
   "outputs": [],
   "source": [
    "import pandas as pd\n",
    "from os import listdir"
   ]
  },
  {
   "cell_type": "code",
   "execution_count": 2,
   "metadata": {
    "pycharm": {
     "name": "#%%\n"
    }
   },
   "outputs": [],
   "source": [
    "# Path de origem dos dados\n",
    "#path = 'C:\\\\Users\\\\ViniciusBianchi\\\\Desktop\\\\RFB_CNPJ\\\\ESTABALECIMENTOS\\\\CSV\\\\'\n",
    "path = r\"C:\\Users\\Vinicius\\OneDrive\\Villam\\ARQUIVOS\\Data Eng\\DataSets\\RFB outubro2021\\Downloads Dados Abertos\\Estabelecimento\\CSV\\\\\""
   ]
  },
  {
   "cell_type": "code",
   "execution_count": 3,
   "metadata": {
    "pycharm": {
     "name": "#%%\n"
    }
   },
   "outputs": [
    {
     "data": {
      "text/plain": [
       "10"
      ]
     },
     "execution_count": 3,
     "metadata": {},
     "output_type": "execute_result"
    }
   ],
   "source": [
    "# Lista de arquivos\n",
    "arquivos = listdir(path)\n",
    "len(arquivos)"
   ]
  },
  {
   "cell_type": "code",
   "execution_count": 4,
   "metadata": {
    "pycharm": {
     "name": "#%%\n"
    }
   },
   "outputs": [
    {
     "data": {
      "text/plain": [
       "['K3241.K03200Y0.D11009.ESTABELE',\n",
       " 'K3241.K03200Y1.D11009.ESTABELE',\n",
       " 'K3241.K03200Y2.D11009.ESTABELE',\n",
       " 'K3241.K03200Y3.D11009.ESTABELE',\n",
       " 'K3241.K03200Y4.D11009.ESTABELE',\n",
       " 'K3241.K03200Y5.D11009.ESTABELE',\n",
       " 'K3241.K03200Y6.D11009.ESTABELE',\n",
       " 'K3241.K03200Y7.D11009.ESTABELE',\n",
       " 'K3241.K03200Y8.D11009.ESTABELE',\n",
       " 'K3241.K03200Y9.D11009.ESTABELE']"
      ]
     },
     "execution_count": 4,
     "metadata": {},
     "output_type": "execute_result"
    }
   ],
   "source": [
    "arquivos"
   ]
  },
  {
   "cell_type": "code",
   "execution_count": 5,
   "metadata": {
    "pycharm": {
     "name": "#%%\n"
    }
   },
   "outputs": [],
   "source": [
    "UF = 'RJ'\n",
    "\n",
    "# tom_Municipio = ''\n",
    "\n",
    "# Pasta do Resultado\n",
    "#path_save = 'C:\\\\Users\\ViniciusBianchi\\\\Documents\\\\GitHub\\\\Villam_Projetos_Desenvolvimento\\PROJETO ESCALA\\\\DataSets\\\\'\n",
    "path_save = r\"C:\\Users\\Vinicius\\OneDrive\\Villam\\ARQUIVOS\\Data Eng\\DataSets\\RFB outubro2021\\Downloads Dados Abertos\\resultados\\\\\"\n",
    "nome_resultado = 'Estabelecimentos_BR.csv'\n",
    "\n",
    "colunas_estabelecimento = ['CNPJ_BASICO',\n",
    "                  'CNPJ_ORDEM',\n",
    "                  'CNPJ_DV',\n",
    "                  'MATRIZ_FILIAL',\n",
    "                  'NOME_FANTASIA',\n",
    "                  'SITUACAO_CADASTRAL',\n",
    "                  'DATA_SITUACAO_CADASTRAL',\n",
    "                  'MOTIVO_SITUACAO',\n",
    "                  'NOME_CIDADE_EXT',\n",
    "                  'PAIS',\n",
    "                  'Data_Inicio_Atividade',\n",
    "                  'CNAE_PRINCIPAL',\n",
    "                  'CNAE_SECUNDARIA',\n",
    "                  'TIPO_LOGRADDOURO',\n",
    "                  'LOGRADOURO',\n",
    "                  'NUM',\n",
    "                  'COMPLEMENTO',\n",
    "                  'BAIRRO',\n",
    "                  'CEP',\n",
    "                  'UF',\n",
    "                  'MUNICIPIO',\n",
    "                  'DDD1',\n",
    "                  'TEL1',\n",
    "                  'DDD2',\n",
    "                  'TEL2',\n",
    "                  'DDD_FAX',\n",
    "                  'TEL_FAX',\n",
    "                  'E-MAIL',\n",
    "                  'SITUACAO_ESPECIAL',\n",
    "                  'DATA_SIT_ESPECIAL']"
   ]
  },
  {
   "cell_type": "code",
   "execution_count": 6,
   "metadata": {
    "pycharm": {
     "name": "#%%\n"
    }
   },
   "outputs": [
    {
     "name": "stdout",
     "output_type": "stream",
     "text": [
      "Wall time: 3min 37s\n"
     ]
    }
   ],
   "source": [
    "%%time\n",
    "lista = []\n",
    "\n",
    "for i in range(len(arquivos)):\n",
    "    lista.append(pd.read_csv(path+arquivos[i],\n",
    "            sep = ';',\n",
    "           encoding='ansi',\n",
    "           dtype = str,\n",
    "           names = colunas_estabelecimento))"
   ]
  },
  {
   "cell_type": "code",
   "execution_count": 7,
   "metadata": {
    "pycharm": {
     "name": "#%%\n"
    }
   },
   "outputs": [
    {
     "name": "stdout",
     "output_type": "stream",
     "text": [
      "Wall time: 7.26 s\n"
     ]
    }
   ],
   "source": [
    "%%time\n",
    "base = pd.concat(lista)"
   ]
  },
  {
   "cell_type": "code",
   "execution_count": 9,
   "metadata": {
    "pycharm": {
     "name": "#%%\n"
    }
   },
   "outputs": [
    {
     "name": "stdout",
     "output_type": "stream",
     "text": [
      "<class 'pandas.core.frame.DataFrame'>\n",
      "Int64Index: 50203226 entries, 0 to 4753434\n",
      "Data columns (total 30 columns):\n",
      " #   Column                   Dtype \n",
      "---  ------                   ----- \n",
      " 0   CNPJ_BASICO              object\n",
      " 1   CNPJ_ORDEM               object\n",
      " 2   CNPJ_DV                  object\n",
      " 3   MATRIZ_FILIAL            object\n",
      " 4   NOME_FANTASIA            object\n",
      " 5   SITUACAO_CADASTRAL       object\n",
      " 6   DATA_SITUACAO_CADASTRAL  object\n",
      " 7   MOTIVO_SITUACAO          object\n",
      " 8   NOME_CIDADE_EXT          object\n",
      " 9   PAIS                     object\n",
      " 10  Data_Inicio_Atividade    object\n",
      " 11  CNAE_PRINCIPAL           object\n",
      " 12  CNAE_SECUNDARIA          object\n",
      " 13  TIPO_LOGRADDOURO         object\n",
      " 14  LOGRADOURO               object\n",
      " 15  NUM                      object\n",
      " 16  COMPLEMENTO              object\n",
      " 17  BAIRRO                   object\n",
      " 18  CEP                      object\n",
      " 19  UF                       object\n",
      " 20  MUNICIPIO                object\n",
      " 21  DDD1                     object\n",
      " 22  TEL1                     object\n",
      " 23  DDD2                     object\n",
      " 24  TEL2                     object\n",
      " 25  DDD_FAX                  object\n",
      " 26  TEL_FAX                  object\n",
      " 27  E-MAIL                   object\n",
      " 28  SITUACAO_ESPECIAL        object\n",
      " 29  DATA_SIT_ESPECIAL        object\n",
      "dtypes: object(30)\n",
      "memory usage: 11.6+ GB\n"
     ]
    }
   ],
   "source": [
    "base.info()"
   ]
  },
  {
   "cell_type": "code",
   "execution_count": 14,
   "metadata": {
    "pycharm": {
     "name": "#%%\n"
    }
   },
   "outputs": [],
   "source": [
    "#base = base[base['UF'] == UF]"
   ]
  },
  {
   "cell_type": "code",
   "execution_count": 26,
   "metadata": {
    "pycharm": {
     "name": "#%%\n"
    }
   },
   "outputs": [],
   "source": [
    "def filtroAtivas(cod):\n",
    "    resultado = True\n",
    "    if cod == '02':\n",
    "        resultado =  True\n",
    "    elif cod == '04':\n",
    "        resultado =  True\n",
    "    else:\n",
    "        resultado = False\n",
    "        \n",
    "    return resultado\n"
   ]
  },
  {
   "cell_type": "code",
   "execution_count": 29,
   "metadata": {
    "pycharm": {
     "name": "#%%\n"
    }
   },
   "outputs": [
    {
     "data": {
      "text/plain": [
       "27966227"
      ]
     },
     "execution_count": 29,
     "metadata": {},
     "output_type": "execute_result"
    }
   ],
   "source": [
    "base.SITUACAO_CADASTRAL.apply(filtroAtivas).sum()"
   ]
  },
  {
   "cell_type": "code",
   "execution_count": 32,
   "metadata": {
    "pycharm": {
     "name": "#%%\n"
    }
   },
   "outputs": [],
   "source": [
    "base = base[base.SITUACAO_CADASTRAL.apply(filtroAtivas)]"
   ]
  },
  {
   "cell_type": "code",
   "execution_count": 33,
   "metadata": {
    "pycharm": {
     "name": "#%%\n"
    }
   },
   "outputs": [],
   "source": [
    "# Exportação Dados do Estado\n",
    "base.to_csv(path_save+nome_resultado,\n",
    "           sep = ';',\n",
    "           encoding='ansi',\n",
    "           index=False)"
   ]
  },
  {
   "cell_type": "code",
   "execution_count": 35,
   "metadata": {
    "pycharm": {
     "name": "#%%\n"
    }
   },
   "outputs": [
    {
     "data": {
      "text/plain": [
       "\"\\nbase[base['MUNICIPIO'] == tom_Municipio].to_csv(path_save+nome_resultado,\\n           sep = ';',\\n           encoding='ansi',\\n           index_label=False)\""
      ]
     },
     "execution_count": 35,
     "metadata": {},
     "output_type": "execute_result"
    }
   ],
   "source": [
    "# Exportação Dados do Município\n",
    "'''\n",
    "base[base['MUNICIPIO'] == tom_Municipio].to_csv(path_save+nome_resultado,\n",
    "           sep = ';',\n",
    "           encoding='ansi',\n",
    "           index_label=False)'''"
   ]
  },
  {
   "cell_type": "code",
   "execution_count": 15,
   "metadata": {
    "pycharm": {
     "name": "#%%\n"
    }
   },
   "outputs": [
    {
     "data": {
      "text/plain": [
       "array(['RJ'], dtype=object)"
      ]
     },
     "execution_count": 15,
     "metadata": {},
     "output_type": "execute_result"
    }
   ],
   "source": [
    "base.UF.unique()"
   ]
  },
  {
   "cell_type": "code",
   "execution_count": 16,
   "metadata": {
    "pycharm": {
     "name": "#%%\n"
    }
   },
   "outputs": [
    {
     "data": {
      "text/plain": [
       "(48854518, 30)"
      ]
     },
     "execution_count": 16,
     "metadata": {},
     "output_type": "execute_result"
    }
   ],
   "source": [
    "base.shape"
   ]
  },
  {
   "cell_type": "code",
   "execution_count": null,
   "metadata": {
    "pycharm": {
     "name": "#%%\n"
    }
   },
   "outputs": [],
   "source": []
  }
 ],
 "metadata": {
  "kernelspec": {
   "display_name": "Python 3",
   "language": "python",
   "name": "python3"
  },
  "language_info": {
   "codemirror_mode": {
    "name": "ipython",
    "version": 3
   },
   "file_extension": ".py",
   "mimetype": "text/x-python",
   "name": "python",
   "nbconvert_exporter": "python",
   "pygments_lexer": "ipython3",
   "version": "3.8.8"
  }
 },
 "nbformat": 4,
 "nbformat_minor": 4
}